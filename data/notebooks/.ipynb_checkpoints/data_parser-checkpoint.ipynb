{
 "cells": [
  {
   "cell_type": "code",
   "execution_count": 1,
   "id": "898afa17-68eb-430a-a73e-b188f0e87ba4",
   "metadata": {},
   "outputs": [],
   "source": [
    "import os\n",
    "\n",
    "BASE_DIR = os.path.abspath(os.path.join(os.getcwd(), '..'))\n",
    "RAW_VIDEO_DIR = os.path.join(BASE_DIR, 'raw/ravdess')\n",
    "PROCESSED_IMAGES_DIR = os.path.join(BASE_DIR, 'processed/images')\n",
    "PROCESSED_AUDIO_DIR = os.path.join(BASE_DIR, 'processed/audio')\n",
    "\n",
    "os.makedirs(PROCESSED_IMAGES_DIR, exist_ok=True)\n",
    "os.makedirs(PROCESSED_AUDIO_DIR, exist_ok=True)\n"
   ]
  },
  {
   "cell_type": "code",
   "execution_count": 2,
   "id": "7f91cfe4-e981-4915-9fab-9e4d9f9c896c",
   "metadata": {},
   "outputs": [],
   "source": [
    "emotion_map = {\n",
    "    '01': 'neutral',\n",
    "    '02': 'calm',\n",
    "    '03': 'happy',\n",
    "    '04': 'sad',\n",
    "    '05': 'angry',\n",
    "    '06': 'fear',\n",
    "    '07': 'disgust',\n",
    "    '08': 'surprised'\n",
    "}\n",
    "\n",
    "allowed_emotions = {'angry', 'disgust', 'fear', 'happy', 'neutral', 'sad', 'surprised'}\n"
   ]
  },
  {
   "cell_type": "code",
   "execution_count": 3,
   "id": "63d2d793-e5c9-49a0-8143-850cfe58b606",
   "metadata": {},
   "outputs": [],
   "source": [
    "import subprocess\n",
    "\n",
    "def extract_audio_from_video(video_path, output_audio_path):\n",
    "    command = [\n",
    "        'ffmpeg',\n",
    "        '-i', video_path,\n",
    "        '-q:a', '0',\n",
    "        '-map', 'a',\n",
    "        output_audio_path,\n",
    "        '-y'\n",
    "    ]\n",
    "    subprocess.run(command, stdout=subprocess.DEVNULL, stderr=subprocess.STDOUT)\n",
    "\n",
    "def extract_frames_from_video(video_path, output_dir, num_frames=3):\n",
    "    os.makedirs(output_dir, exist_ok=True)\n",
    "    video_basename = os.path.basename(video_path).replace('.mp4', '')\n",
    "\n",
    "    command = [\n",
    "        'ffmpeg',\n",
    "        '-i', video_path,\n",
    "        '-vf', f\"fps={num_frames}/5\",\n",
    "        os.path.join(output_dir, f\"{video_basename}_%03d.jpg\"),\n",
    "        '-hide_banner',\n",
    "        '-loglevel', 'error'\n",
    "    ]\n",
    "    subprocess.run(command)"
   ]
  },
  {
   "cell_type": "code",
   "execution_count": 6,
   "id": "0db56c38-5d4a-43c2-82d9-96a3c4043414",
   "metadata": {},
   "outputs": [],
   "source": [
    "import random\n",
    "from glob import glob\n",
    "import shutil\n",
    "\n",
    "split_ratio = {'train': 0.7, 'test': 0.2, 'validation': 0.1}\n",
    "\n",
    "def sort_and_extract_from_video(source_dir, processed_audio_dir, processed_images_dir, split_ratio):\n",
    "    video_files = glob(os.path.join(source_dir, 'Actor_*', '*.mp4'))\n",
    "    random.shuffle(video_files)\n",
    "\n",
    "    total = len(video_files)\n",
    "    train_count = int(total * split_ratio['train'])\n",
    "    test_count = int(total * split_ratio['test'])\n",
    "\n",
    "    splits = {\n",
    "        'train': video_files[:train_count],\n",
    "        'test': video_files[train_count:train_count+test_count],\n",
    "        'validation': video_files[train_count+test_count:]\n",
    "    }\n",
    "\n",
    "    counters = {}\n",
    "\n",
    "    for split, split_files in splits.items():\n",
    "        for file_path in split_files:\n",
    "            file_name = os.path.basename(file_path)\n",
    "            parts = file_name.split('-')\n",
    "            if len(parts) < 7:\n",
    "                continue\n",
    "\n",
    "            emotion_code = parts[2]\n",
    "            emotion = emotion_map.get(emotion_code, 'unknown')\n",
    "\n",
    "            if emotion not in allowed_emotions:\n",
    "                continue\n",
    "\n",
    "            counters.setdefault((split, emotion), 0)\n",
    "            counters[(split, emotion)] += 1\n",
    "\n",
    "            base_name = f\"{split}-{emotion}-{counters[(split, emotion)]:04d}\"\n",
    "\n",
    "            audio_target_dir = os.path.join(processed_audio_dir, split, emotion)\n",
    "            os.makedirs(audio_target_dir, exist_ok=True)\n",
    "            extract_audio_from_video(file_path, os.path.join(audio_target_dir, f\"{base_name}.wav\"))\n",
    "\n",
    "            image_target_dir = os.path.join(processed_images_dir, split, emotion)\n",
    "            os.makedirs(image_target_dir, exist_ok=True)\n",
    "            extract_frames_from_video(file_path, image_target_dir)\n"
   ]
  },
  {
   "cell_type": "code",
   "execution_count": 7,
   "id": "3527df90-ab6a-49bc-a68f-8379a50e66aa",
   "metadata": {},
   "outputs": [
    {
     "name": "stdout",
     "output_type": "stream",
     "text": [
      "0\n"
     ]
    }
   ],
   "source": [
    "sort_and_extract_from_video(\n",
    "    source_dir=RAW_VIDEO_DIR,\n",
    "    processed_audio_dir=PROCESSED_AUDIO_DIR,\n",
    "    processed_images_dir=PROCESSED_IMAGES_DIR,\n",
    "    split_ratio=split_ratio\n",
    ")"
   ]
  }
 ],
 "metadata": {
  "kernelspec": {
   "display_name": "Python 3 (ipykernel)",
   "language": "python",
   "name": "python3"
  },
  "language_info": {
   "codemirror_mode": {
    "name": "ipython",
    "version": 3
   },
   "file_extension": ".py",
   "mimetype": "text/x-python",
   "name": "python",
   "nbconvert_exporter": "python",
   "pygments_lexer": "ipython3",
   "version": "3.12.3"
  }
 },
 "nbformat": 4,
 "nbformat_minor": 5
}
